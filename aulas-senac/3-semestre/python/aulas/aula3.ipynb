{
 "cells": [
  {
   "cell_type": "markdown",
   "metadata": {},
   "source": [
    "dicionário"
   ]
  },
  {
   "cell_type": "code",
   "execution_count": 10,
   "metadata": {},
   "outputs": [
    {
     "name": "stdout",
     "output_type": "stream",
     "text": [
      "{'Sport': 'Leão', 'Nautico': 'Timbu', 'Santa Cruz': 'Cobra Coral'}\n"
     ]
    }
   ],
   "source": [
    "timesMascotes = {'Sport': 'Leão', 'Nautico': 'Timbu', 'Santa Cruz': 'Cobra Coral'}\n",
    "print(timesMascotes)"
   ]
  },
  {
   "cell_type": "markdown",
   "metadata": {},
   "source": [
    "lista de cadastro com dicionario + função"
   ]
  },
  {
   "cell_type": "code",
   "execution_count": 39,
   "metadata": {},
   "outputs": [
    {
     "name": "stdout",
     "output_type": "stream",
     "text": [
      "cadastro realizado com sucesso\n"
     ]
    },
    {
     "data": {
      "text/plain": [
       "{'Nome': 'Rafael', 'Idade': 26, 'Profissão': 'estudante'}"
      ]
     },
     "execution_count": 39,
     "metadata": {},
     "output_type": "execute_result"
    }
   ],
   "source": [
    "cadastro = [] #lista vazia \n",
    "\n",
    "def adicionar_cadastro(nome, idade, profissao):\n",
    "    cadastro.append({'Nome': nome, 'Idade': idade, 'Profissão': profissao}) #dicionario recebendo parâmetros da função\n",
    "    return print(\"cadastro realizado com sucesso\")\n",
    "\n",
    "\n",
    "adicionar_cadastro('Rafael', 26, 'estudante')\n",
    "\n",
    "##cadastro[0]['Nome'], cadastro[0]['Idade'], cadastro[0]['Profissão'] #pesquisando por elemento\n",
    "\n",
    "\n",
    "\n",
    "\n",
    "\n",
    "\n"
   ]
  },
  {
   "cell_type": "code",
   "execution_count": 40,
   "metadata": {},
   "outputs": [
    {
     "data": {
      "text/plain": [
       "{'Nome': 'Rafael', 'Idade': 26, 'Profissão': 'estudante'}"
      ]
     },
     "execution_count": 40,
     "metadata": {},
     "output_type": "execute_result"
    }
   ],
   "source": [
    "\n",
    "def consultar_cadastro(nome):\n",
    "    for cadastrado in cadastro:\n",
    "        if cadastrado['Nome'] == nome:\n",
    "            return cadastrado\n",
    "    return \"Pessoa não encontrada\"\n",
    "\n",
    "consultar_cadastro('Rafael')"
   ]
  },
  {
   "cell_type": "markdown",
   "metadata": {},
   "source": [
    "abrindo arquivo no py com with open\n"
   ]
  },
  {
   "cell_type": "code",
   "execution_count": 47,
   "metadata": {},
   "outputs": [
    {
     "name": "stdout",
     "output_type": "stream",
     "text": [
      "['1', '2', '3', '4', '5', '6', '7', '8', '9', '10', 'picas_no_cu_de_marinho']\n"
     ]
    }
   ],
   "source": [
    "with open('numeros.txt', 'r') as arquivo: #r serve para leitura do arquivo\n",
    "    conteudo = arquivo.read()\n",
    "\n",
    "conteudo += '\\n picas_no_cu_de_marinho'  #adicionar arquvido \n",
    "\n",
    "\n",
    "conteudo_lista = conteudo.split() #transformando o conteúdo do txt em uma array, se baseando nos espaços vazios\n",
    "print(conteudo_lista)  \n",
    "\n",
    "\n",
    "\n",
    "\n"
   ]
  },
  {
   "cell_type": "markdown",
   "metadata": {},
   "source": [
    "CRIAÇÃO DE AMBIENTE VIRTUAL:\n",
    "\n",
    "python -m venv nomequequiser\n",
    "\n",
    ".nomequequiser\\Scripts\\activate "
   ]
  },
  {
   "cell_type": "markdown",
   "metadata": {},
   "source": []
  }
 ],
 "metadata": {
  "kernelspec": {
   "display_name": "Python 3",
   "language": "python",
   "name": "python3"
  },
  "language_info": {
   "codemirror_mode": {
    "name": "ipython",
    "version": 3
   },
   "file_extension": ".py",
   "mimetype": "text/x-python",
   "name": "python",
   "nbconvert_exporter": "python",
   "pygments_lexer": "ipython3",
   "version": "3.12.3"
  }
 },
 "nbformat": 4,
 "nbformat_minor": 2
}
