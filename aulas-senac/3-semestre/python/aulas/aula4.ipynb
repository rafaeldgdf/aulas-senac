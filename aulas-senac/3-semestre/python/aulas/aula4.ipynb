{
 "cells": [
  {
   "cell_type": "code",
   "execution_count": 6,
   "metadata": {},
   "outputs": [],
   "source": [
    "url = 'https://drive.google.com/uc?id=1Jgto7psHaMRTAVzcFt7D6SgJiHMB7uGT'"
   ]
  },
  {
   "cell_type": "code",
   "execution_count": 7,
   "metadata": {},
   "outputs": [
    {
     "data": {
      "text/plain": [
       "<bound method DataFrame.info of     ID_Escola Nome_Escola Tipo_Escola  Numero_Alunos  Orcamento_Anual\n",
       "0           0    Escola A     Publica           2917          1910635\n",
       "1           1    Escola B     Publica           2949          1884411\n",
       "2           2    Escola C  Particular           1761          1056600\n",
       "3           3    Escola D     Publica           4635          3022020\n",
       "4           4    Escola E  Particular           1468           917500\n",
       "5           5    Escola F  Particular           2283          1319574\n",
       "6           6    Escola G  Particular           1858          1081356\n",
       "7           7    Escola H     Publica           4976          3124928\n",
       "8           8    Escola I  Particular            427           248087\n",
       "9           9    Escola J  Particular            962           585858\n",
       "10         10    Escola K  Particular           1800          1049400\n",
       "11         11    Escola L     Publica           3999          2547363\n",
       "12         12    Escola M     Publica           4761          3094650\n",
       "13         13    Escola N     Publica           2739          1763916\n",
       "14         14    Escola O  Particular           1635          1043130>"
      ]
     },
     "execution_count": 7,
     "metadata": {},
     "output_type": "execute_result"
    }
   ],
   "source": [
    "import pandas as pd \n",
    "\n",
    "escolas = pd.read_csv(url) \n",
    "\n",
    "escolas.info"
   ]
  }
 ],
 "metadata": {
  "kernelspec": {
   "display_name": "Python 3",
   "language": "python",
   "name": "python3"
  },
  "language_info": {
   "codemirror_mode": {
    "name": "ipython",
    "version": 3
   },
   "file_extension": ".py",
   "mimetype": "text/x-python",
   "name": "python",
   "nbconvert_exporter": "python",
   "pygments_lexer": "ipython3",
   "version": "3.12.3"
  }
 },
 "nbformat": 4,
 "nbformat_minor": 2
}
