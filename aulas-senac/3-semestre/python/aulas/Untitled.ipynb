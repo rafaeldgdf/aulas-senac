{
 "cells": [
  {
   "cell_type": "code",
   "execution_count": 1,
   "id": "cc3fc10e-b8ec-40ca-830a-382de286d7d9",
   "metadata": {},
   "outputs": [],
   "source": [
    "url = 'https://drive.google.com/uc?id=1Jgto7psHaMRTAVzcFt7D6SgJiHMB7uGT'"
   ]
  },
  {
   "cell_type": "code",
   "execution_count": 7,
   "id": "7d682bb2-da49-4c2d-89e8-ee04d777b7a3",
   "metadata": {},
   "outputs": [],
   "source": [
    "import pandas as pd \n",
    "\n",
    "escolas = pd.read_csv(url)"
   ]
  }
 ],
 "metadata": {
  "kernelspec": {
   "display_name": "Python 3 (ipykernel)",
   "language": "python",
   "name": "python3"
  },
  "language_info": {
   "codemirror_mode": {
    "name": "ipython",
    "version": 3
   },
   "file_extension": ".py",
   "mimetype": "text/x-python",
   "name": "python",
   "nbconvert_exporter": "python",
   "pygments_lexer": "ipython3",
   "version": "3.12.3"
  }
 },
 "nbformat": 4,
 "nbformat_minor": 5
}
