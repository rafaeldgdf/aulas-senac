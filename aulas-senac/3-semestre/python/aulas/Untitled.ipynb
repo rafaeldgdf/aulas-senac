{
 "cells": [
  {
   "cell_type": "code",
   "execution_count": null,
   "id": "cc3fc10e-b8ec-40ca-830a-382de286d7d9",
   "metadata": {},
   "outputs": [],
   "source": []
  }
 ],
 "metadata": {
  "kernelspec": {
   "display_name": "",
   "name": ""
  },
  "language_info": {
   "name": ""
  }
 },
 "nbformat": 4,
 "nbformat_minor": 5
}
